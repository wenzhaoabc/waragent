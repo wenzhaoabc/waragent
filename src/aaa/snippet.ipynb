{
 "cells": [
  {
   "cell_type": "code",
   "execution_count": 9,
   "metadata": {},
   "outputs": [
    {
     "name": "stdout",
     "output_type": "stream",
     "text": [
      "{\"id\":\"\",\"choices\":[{\"finish_reason\":\"stop\",\"index\":0,\"logprobs\":null,\"message\":{\"content\":\"World War II was the deadliest military conflict in history, with an estimated total of 70–85 million people perishing. This accounted for about 3% of the estimated global population of 2.3 billion in 1940. Deaths directly caused by the war, including military and civilian fatalities, are estimated at 50–56 million, with an additional estimated 19–28 million deaths from war-related disease and famine.\\nWorld War II was the deadliest military conflict in history, with an estimated total of 70–85 million people perishing. This accounted for about 3% of the estimated global population of 2.3 billion in 1940. Deaths directly caused by the war, including military and civilian fatalities, are estimated at 50–56 million, with an additional estimated 19–28 million deaths from war-related disease and famine.\",\"role\":\"assistant\",\"function_call\":null,\"tool_calls\":null}}],\"created\":null,\"model\":\"\",\"object\":null,\"system_fingerprint\":null,\"usage\":{\"completion_tokens\":1,\"prompt_tokens\":1,\"total_tokens\":1}}\n"
     ]
    }
   ],
   "source": [
    "import os\n",
    "from openai import OpenAI\n",
    "\n",
    "client = OpenAI(\n",
    "    api_key=os.environ[\"RAG_API_KEY\"],\n",
    "    base_url=os.environ[\"RAG_BASE_URL\"],\n",
    ")\n",
    "\n",
    "response = client.chat.completions.create(\n",
    "    model=\"WarAgent\",\n",
    "    messages=[{\"role\": \"user\", \"content\": \"How many people dead in World War II?\"}],\n",
    "    stream=False,\n",
    ")\n",
    "\n",
    "j = response.model_dump_json()\n",
    "print(j)"
   ]
  },
  {
   "cell_type": "code",
   "execution_count": 2,
   "metadata": {},
   "outputs": [
    {
     "name": "stdout",
     "output_type": "stream",
     "text": [
      "<!doctype html><html itemscope=\"\" itemtype=\"http://schema.org/WebPage\" lang=\"en-SG\"><head><meta content=\"text/html; charset=UTF-8\" http-equiv=\"Content-Type\"><meta content=\"/images/branding/googleg/1x/googleg_standard_color_128dp.png\" itemprop=\"image\"><title>Google</title><script nonce=\"vA-VvEVZJhyr42xK8RTvuA\">(function(){var _g={kEI:'BgFLZpSKM9TT1e8Pv5i-qAM',kEXPI:'0,202715,2301660,1195911,656,368,79,535945,2711,2872,2891,73050,16105,230,17933,45420,43880,6645,49751,2,16737,23024,6699,41949,57734,2,2,1,26632,8155,23350,8703,13733,9779,42459,3142,17057,73178,2265,765,15816,1804,7734,13278,26070,1632,56362,5203197,8587,891,26,635,25,5991745,2839632,150,140,26711926,1270287,16672,43887,3,318,4,1281,3,2121778,2585,24110,23005241,8163,3396,1240,8409,8027,8079,2,556,28027,36870,1922,8589,2370,6407,10517,3328,12952,2213,7981,200,390,7527,2891,2436,1629,2867,5,5108,4,8939,15840,1794,75,2,10008,10990,360,240,47,2245,709,1794,1954,155,399,2085,8947,4556,7737,7,5249,3,1340,1426,1113,969,539,360,2550,182,206,122,1783,865,569,4,123,293,2588,707,409,2235,36,427,464,1,332,5,11,75,1158,906,1208,203,1786,12,633,122,5,828,497,1825,3,268,136,26,3,39,1232,969,409,1732,508,873,356,162,891,1144,957,1415,1,3,1205,68,36,203,2517,2,2,438,722,2965,357,96,1297,453,12,6,9,12,9,6,9,9,12,8,9,12,6,9,9,12,6,12,9,6,9,9,9,9,12,9,6,9,9,12,6,12,6,9,12,6,9,12,6,9,9,12,9,9,6,9,12,6,12,9,6,12,6,12,6,9,9,12,9,9,6,9,12,9,9,9,9,9,6,9,12,9,9,9,9,9,6,9,12,6,9,12,6,9,12,6,12,9,9,6,9,9,9,12,6,12,9,6,9,9,12,9,9,9,9,9,6,9,9,9,12,9,9,6,9,12,6,9,12,6,9,12,6,12,9,6,12,6,12,6,9,9,12,6,9,9,12,9,9,9,9,9,6,9,9,12,6,9,12,1253,213,1809,678,144,123,45,148,974,3,52,22,1232,72,370,602,2444,221,1262,140,888,2,729,1059,1080,2,3,977,2,377,1528,84,846,2,612,2,2,580,150,118,1017,2,309,672,3,236,492,70,251,226,592,165,7,1,172,60,331,858,12,356,21,26,309,408,732,232,3,374,82,18,2034,798,40,439,328,435,2017,780,56,77,123,4,34,270,368,98,471,7,67,2,135,385,295,155,645,60,274,100,32,116,10,654,198,83,8,373,390,742,131,247,1116,1344,1921,3,325,608,276,3,3,2327,1329,21592697,4267,3,5250,3044,2289,3585',kBL:'Daul',kOPI:89978449};(function(){var a;(null==(a=window.google)?0:a.stvsc)?google.kEI=_g.kEI:window.google=_g;}).call(this);})();(function(){google.sn='webhp';google.kHL='en-SG';})();(function(){\n",
      "var h=this||self;function l(){return void 0!==window.google&&void 0!==window.google.kOPI&&0!==window.google.kOPI?window.google.kOPI:null};var m,n=[];function p(a){for(var b;a&&(!a.getAttribute||!(b=a.getAttribute(\"eid\")));)a=a.parentNode;return b||m}function q(a){for(var b=null;a&&(!a.getAttribute||!(b=a.getAttribute(\"leid\")));)a=a.parentNode;return b}function r(a){/^http:/i.test(a)&&\"https:\"===window.location.protocol&&(google.ml&&google.ml(Error(\"a\"),!1,{src:a,glmm:1}),a=\"\");return a}\n",
      "function t(a,b,c,d,k){var e=\"\";-1===b.search(\"&ei=\")&&(e=\"&ei=\"+p(d),-1===b.search(\"&lei=\")&&(d=q(d))&&(e+=\"&lei=\"+d));d=\"\";var g=-1===b.search(\"&cshid=\")&&\"slh\"!==a,f=[];f.push([\"zx\",Date.now().toString()]);h._cshid&&g&&f.push([\"cshid\",h._cshid]);c=c();null!=c&&f.push([\"opi\",c.toString()]);for(c=0;c<f.length;c++){if(0===c||0<c)d+=\"&\";d+=f[c][0]+\"=\"+f[c][1]}return\"/\"+(k||\"gen_204\")+\"?atyp=i&ct=\"+String(a)+\"&cad=\"+(b+e+d)};m=google.kEI;google.getEI=p;google.getLEI=q;google.ml=function(){return null};google.log=function(a,b,c,d,k,e){e=void 0===e?l:e;c||(c=t(a,b,e,d,k));if(c=r(c)){a=new Image;var g=n.length;n[g]=a;a.onerror=a.onload=a.onabort=function(){delete n[g]};a.src=c}};google.logUrl=function(a,b){b=void 0===b?l:b;return t(\"\",a,b)};}).call(this);(function(){google.y={};google.sy=[];google.x=function(a,b){if(a)var c=a.id;else{do c=Math.random();while(google.y[c])}google.y[c]=[a,b];return!1};google.sx=function(a){google.sy.push(a)};google.lm=[];google.plm=function(a){google.lm.push.apply(google.lm,a)};google.lq=[];google.load=function(a,b,c){google.lq.push([[a],b,c])};google.loadAll=function(a,b){google.lq.push([a,b])};google.bx=!1;google.lx=function(){};var d=[];google.fce=function(a,b,c,e){d.push([a,b,c,e])};google.qce=d;}).call(this);google.f={};(function(){\n",
      "document.documentElement.addEventListener(\"submit\",function(b){var a;if(a=b.target){var c=a.getAttribute(\"data-submitfalse\");a=\"1\"===c||\"q\"===c&&!a.elements.q.value?!0:!1}else a=!1;a&&(b.preventDefault(),b.stopPropagation())},!0);document.documentElement.addEventListener(\"click\",function(b){var a;a:{for(a=b.target;a&&a!==document.documentElement;a=a.parentElement)if(\"A\"===a.tagName){a=\"1\"===a.getAttribute(\"data-nohref\");break a}a=!1}a&&b.preventDefault()},!0);}).call(this);</script><style>#gbar,#guser{font-size:13px;padding-top:1px !important;}#gbar{height:22px}#guser{padding-bottom:7px !important;text-align:right}.gbh,.gbd{border-top:1px solid #c9d7f1;font-size:1px}.gbh{height:0;position:absolute;top:24px;width:100%}@media all{.gb1{height:22px;margin-right:.5em;vertical-align:top}#gbar{float:left}}a.gb1,a.gb4{text-decoration:underline !important}a.gb1,a.gb4{color:#00c !important}.gbi .gb4{color:#dd8e27 !important}.gbf .gb4{color:#900 !important}\n",
      "</style><style>body,td,a,p,.h{font-family:arial,sans-serif}body{margin:0;overflow-y:scroll}#gog{padding:3px 8px 0}td{line-height:.8em}.gac_m td{line-height:17px}form{margin-bottom:20px}.h{color:#1967d2}em{font-weight:bold;font-style:normal}.lst{height:25px;width:496px}.gsfi,.lst{font:18px arial,sans-serif}.gsfs{font:17px arial,sans-serif}.ds{display:inline-box;display:inline-block;margin:3px 0 4px;margin-left:4px}input{font-family:inherit}body{background:#fff;color:#000}a{color:#681da8;text-decoration:none}a:hover,a:active{text-decoration:underline}.fl a{color:#1967d2}a:visited{color:#681da8}.sblc{padding-top:5px}.sblc a{display:block;margin:2px 0;margin-left:13px;font-size:11px}.lsbb{background:#f8f9fa;border:solid 1px;border-color:#dadce0 #70757a #70757a #dadce0;height:30px}.lsbb{display:block}#WqQANb a{display:inline-block;margin:0 12px}.lsb{background:url(/images/nav_logo229.png) 0 -261px repeat-x;color:#000;border:none;cursor:pointer;height:30px;margin:0;outline:0;font:15px arial,sans-serif;vertical-align:top}.lsb:active{background:#dadce0}.lst:focus{outline:none}</style><script nonce=\"vA-VvEVZJhyr42xK8RTvuA\">(function(){window.google.erd={jsr:1,bv:2011,de:true};\n",
      "var h=this||self;var k,l=null!=(k=h.mei)?k:1,n,p=null!=(n=h.sdo)?n:!0,q=0,r,t=google.erd,v=t.jsr;google.ml=function(a,b,d,m,e){e=void 0===e?2:e;b&&(r=a&&a.message);void 0===d&&(d={});d.cad=\"ple_\"+google.ple+\".aple_\"+google.aple;if(google.dl)return google.dl(a,e,d,!0),null;b=d;if(0>v){window.console&&console.error(a,b);if(-2===v)throw a;b=!1}else b=!a||!a.message||\"Error loading script\"===a.message||q>=l&&!m?!1:!0;if(!b)return null;q++;d=d||{};b=encodeURIComponent;var c=\"/gen_204?atyp=i&ei=\"+b(google.kEI);google.kEXPI&&(c+=\"&jexpid=\"+b(google.kEXPI));c+=\"&srcpg=\"+b(google.sn)+\"&jsr=\"+b(t.jsr)+\n",
      "\"&bver=\"+b(t.bv);var f=a.lineNumber;void 0!==f&&(c+=\"&line=\"+f);var g=a.fileName;g&&(0<g.indexOf(\"-extension:/\")&&(e=3),c+=\"&script=\"+b(g),f&&g===window.location.href&&(f=document.documentElement.outerHTML.split(\"\\n\")[f],c+=\"&cad=\"+b(f?f.substring(0,300):\"No script found.\")));google.ple&&1===google.ple&&(e=2);c+=\"&jsel=\"+e;for(var u in d)c+=\"&\",c+=b(u),c+=\"=\",c+=b(d[u]);c=c+\"&emsg=\"+b(a.name+\": \"+a.message);c=c+\"&jsst=\"+b(a.stack||\"N/A\");12288<=c.length&&(c=c.substr(0,12288));a=c;m||google.log(0,\"\",a);return a};window.onerror=function(a,b,d,m,e){r!==a&&(a=e instanceof Error?e:Error(a),void 0===d||\"lineNumber\"in a||(a.lineNumber=d),void 0===b||\"fileName\"in a||(a.fileName=b),google.ml(a,!1,void 0,!1,\"SyntaxError\"===a.name||\"SyntaxError\"===a.message.substring(0,11)||-1!==a.message.indexOf(\"Script error\")?3:0));r=null;p&&q>=l&&(window.onerror=null)};})();</script>\n"
     ]
    }
   ],
   "source": [
    "import requests\n",
    "\n",
    "t = requests.get(\"https://google.com\").text\n",
    "\n",
    "print(t.split('</head>')[0])\n"
   ]
  }
 ],
 "metadata": {
  "kernelspec": {
   "display_name": "waragent",
   "language": "python",
   "name": "python3"
  },
  "language_info": {
   "codemirror_mode": {
    "name": "ipython",
    "version": 3
   },
   "file_extension": ".py",
   "mimetype": "text/x-python",
   "name": "python",
   "nbconvert_exporter": "python",
   "pygments_lexer": "ipython3",
   "version": "3.12.2"
  }
 },
 "nbformat": 4,
 "nbformat_minor": 2
}
