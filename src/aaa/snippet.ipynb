{
 "cells": [
  {
   "cell_type": "code",
   "execution_count": 2,
   "metadata": {},
   "outputs": [
    {
     "name": "stdout",
     "output_type": "stream",
     "text": [
      "{\"id\":\"\",\"choices\":[{\"finish_reason\":\"stop\",\"index\":0,\"logprobs\":null,\"message\":{\"content\":\"Según las estimaciones, el total de personas fallecidas en la Segunda Guerra Mundial oscila entre 70 y 85 millones, lo que representa aproximadamente el 3% de la población mundial estimada en 1940. Las muertes directamente causadas por la guerra se estiman entre 50 y 56 millones, con un adicional de 19 a 28 millones de muertes debido a enfermedades y hambrunas relacionadas con la guerra.\\nSegún las estimaciones, el total de personas fallecidas en la Segunda Guerra Mundial oscila entre 70 y 85 millones, lo que representa aproximadamente el 3% de la población mundial estimada en 1940. Las muertes directamente causadas por la guerra se estiman entre 50 y 56 millones, con un adicional de 19 a 28 millones de muertes debido a enfermedades y hambrunas relacionadas con la guerra.\",\"role\":\"assistant\",\"function_call\":null,\"tool_calls\":null}}],\"created\":null,\"model\":\"\",\"object\":null,\"system_fingerprint\":null,\"usage\":{\"completion_tokens\":1,\"prompt_tokens\":1,\"total_tokens\":1}}\n"
     ]
    }
   ],
   "source": [
    "import os\n",
    "from openai import OpenAI\n",
    "\n",
    "client = OpenAI(\n",
    "    api_key=os.environ[\"RAG_API_KEY\"],\n",
    "    base_url=os.environ[\"RAG_BASE_URL\"],\n",
    ")\n",
    "\n",
    "response = client.chat.completions.create(\n",
    "    model=\"WarAgent\",\n",
    "    messages=[{\"role\": \"user\", \"content\": \"How many people dead in World War II?\"}],\n",
    "    stream=False,\n",
    ")\n",
    "\n",
    "j = response.model_dump_json()\n",
    "print(j)"
   ]
  },
  {
   "cell_type": "code",
   "execution_count": 9,
   "metadata": {},
   "outputs": [
    {
     "name": "stdout",
     "output_type": "stream",
     "text": [
      "<!DOCTYPE html>\n",
      "<html class=\"client-nojs vector-feature-language-in-header-enabled vector-feature-language-in-main-page-header-disabled vector-feature-sticky-header-disabled vector-feature-page-tools-pinned-disabled vector-feature-toc-pinned-clientpref-1 vector-feature-main-menu-pinned-disabled vector-feature-limited-width-clientpref-1 vector-feature-limited-width-content-enabled vector-feature-custom-font-size-clientpref-0 vector-feature-appearance-disabled vector-feature-appearance-pinned-clientpref-0 vector-feature-night-mode-disabled skin-theme-clientpref-day vector-toc-available\" lang=\"en\" dir=\"ltr\">\n",
      "<head>\n",
      "<meta charset=\"UTF-8\">\n",
      "<title>World War II - Wikipedia</title>\n",
      "<script>(function(){var className=\"client-js vector-feature-language-in-header-enabled vector-feature-language-in-main-page-header-disabled vector-feature-sticky-header-disabled vector-feature-page-tools-pinned-disabled vector-feature-toc-pinned-clientpref-1 vector-feature-main-menu-pinned-disabled vector-feature-limited-width-clientpref-1 vector-feature-limited-width-content-enabled vector-feature-custom-font-size-clientpref-0 vector-feature-appearance-disabled vector-feature-appearance-pinned-clientpref-0 vector-feature-night-mode-disabled skin-theme-clientpref-day vector-toc-available\";var cookie=document.cookie.match(/(?:^|; )enwikimwclientpreferences=([^;]+)/);if(cookie){cookie[1].split('%2C').forEach(function(pref){className=className.replace(new RegExp('(^| )'+pref.replace(/-clientpref-\\w+$|[^\\w-]+/g,'')+'-clientpref-\\\\w+( |$)'),'$1'+pref+'$2');});}document.documentElement.className=className;}());RLCONF={\"wgBreakFrames\":false,\"wgSeparatorTransformTable\":[\"\",\"\"],\"wgDigitTransformTable\":\n",
      "[\"\",\"\"],\"wgDefaultDateFormat\":\"dmy\",\"wgMonthNames\":[\"\",\"January\",\"February\",\"March\",\"April\",\"May\",\"June\",\"July\",\"August\",\"September\",\"October\",\"November\",\"December\"],\"wgRequestId\":\"630b64b7-e29a-42d2-becd-1c17313b7717\",\"wgCanonicalNamespace\":\"\",\"wgCanonicalSpecialPageName\":false,\"wgNamespaceNumber\":0,\"wgPageName\":\"World_War_II\",\"wgTitle\":\"World War II\",\"wgCurRevisionId\":1224698040,\"wgRevisionId\":1224698040,\"wgArticleId\":32927,\"wgIsArticle\":true,\"wgIsRedirect\":false,\"wgAction\":\"view\",\"wgUserName\":null,\"wgUserGroups\":[\"*\"],\"wgCategories\":[\"Pages using the Graph extension\",\"Pages with disabled graphs\",\"Webarchive template wayback links\",\"CS1 uses Chinese-language script (zh)\",\"CS1 Chinese-language sources (zh)\",\"Pages with missing ISBNs\",\"CS1 Polish-language sources (pl)\",\"CS1: long volume value\",\"Articles with short description\",\"Short description matches Wikidata\",\"Good articles\",\"Wikipedia indefinitely semi-protected pages\",\"Use British English from December 2019\",\n",
      "\"Use dmy dates from April 2023\",\"Pages using multiple image with auto scaled images\",\"All articles lacking reliable references\",\"Articles lacking reliable references from July 2023\",\"Articles lacking reliable references from July 2020\",\"Articles lacking reliable references from November 2021\",\"Pages using Sister project links with hidden wikidata\",\"Pages using Sister project links with default search\",\"Articles with WorldCat Entities identifiers\",\"Articles with BNE identifiers\",\"Articles with BNF identifiers\",\"Articles with BNFdata identifiers\",\"Articles with GND identifiers\",\"Articles with J9U identifiers\",\"Articles with LCCN identifiers\",\"Articles with Libris identifiers\",\"Articles with NDL identifiers\",\"Articles with NKC identifiers\",\"Articles with NLK identifiers\",\"Articles with KULTURNAV identifiers\",\"Articles with EMU identifiers\",\"Articles with HDS identifiers\",\"Articles with IEU identifiers\",\"Articles with LIR identifiers\",\"Articles with NARA identifiers\",\n",
      "\"Articles with TDVİA identifiers\",\"World War II\",\"World Wars\",\"Conflicts in 1939\",\"Conflicts in 1940\",\"Conflicts in 1941\",\"Conflicts in 1942\",\"Conflicts in 1943\",\"Conflicts in 1944\",\"Conflicts in 1945\",\"Global conflicts\",\"Late modern Europe\",\"Nuclear warfare\",\"Wars involving Albania\",\"Wars involving Australia\",\"Wars involving Austria\",\"Wars involving Belgium\",\"Wars involving Bolivia\",\"Wars involving Brazil\",\"Wars involving British India\",\"Wars involving Bulgaria\",\"Wars involving Myanmar\",\"Wars involving Cambodia\",\"Wars involving Canada\",\"Wars involving Chile\",\"Wars involving Colombia\",\"Wars involving Costa Rica\",\"Wars involving Croatia\",\"Wars involving Cuba\",\"Wars involving Czechoslovakia\",\"Wars involving Denmark\",\"Wars involving the Dominican Republic\",\"Wars involving Ecuador\",\"Wars involving Egypt\",\"Wars involving El Salvador\",\"Wars involving Estonia\",\"Wars involving Ethiopia\",\"Wars involving Finland\",\"Wars involving France\",\"Wars involving Germany\",\"Wars involving Greece\",\n",
      "\"Wars involving Guatemala\",\"Wars involving Haiti\",\"Wars involving Honduras\",\"Wars involving Hungary\",\"Wars involving Iceland\",\"Wars involving Indonesia\",\"Wars involving Italy\",\"Wars involving Iran\",\"Wars involving Iraq\",\"Wars involving Japan\",\"Wars involving Kazakhstan\",\"Wars involving Laos\",\"Wars involving Latvia\",\"Wars involving Lebanon\",\"Wars involving Liberia\",\"Wars involving Lithuania\",\"Wars involving Luxembourg\",\"Wars involving Mexico\",\"Wars involving Mongolia\",\"Wars involving Montenegro\",\"Wars involving Nepal\",\"Wars involving Norway\",\"Wars involving Nicaragua\",\"Wars involving Panama\",\"Wars involving Paraguay\",\"Wars involving Peru\",\"Wars involving Poland\",\"Wars involving Rhodesia\",\"Wars involving Romania\",\"Wars involving Saudi Arabia\",\"Wars involving Serbia\",\"Wars involving Slovakia\",\"Wars involving Slovenia\",\"Wars involving South Africa\",\"Wars involving Sri Lanka\",\"Wars involving Syria\",\"Wars involving Thailand\",\"Wars involving the Netherlands\",\"Wars involving the Philippines\",\n",
      "\"Wars involving the Republic of China\",\"Wars involving the Soviet Union\",\"Wars involving the United Kingdom\",\"Wars involving the United States\",\"Wars involving Uruguay\",\"Wars involving Venezuela\",\"Wars involving Vietnam\",\"Wars involving Yugoslavia\",\"Wars involving India\"],\"wgPageViewLanguage\":\"en\",\"wgPageContentLanguage\":\"en\",\"wgPageContentModel\":\"wikitext\",\"wgRelevantPageName\":\"World_War_II\",\"wgRelevantArticleId\":32927,\"wgIsProbablyEditable\":false,\"wgRelevantPageIsProbablyEditable\":false,\"wgRestrictionEdit\":[\"autoconfirmed\"],\"wgRestrictionMove\":[\"sysop\"],\"wgNoticeProject\":\"wikipedia\",\"wgCiteReferencePreviews\":false,\"wgFlaggedRevsParams\":{\"tags\":{\"status\":{\"levels\":1}}},\"wgMediaViewerOnClick\":true,\"wgMediaViewerEnabledByDefault\":true,\"wgPopupsFlags\":6,\"wgVisualEditor\":{\"pageLanguageCode\":\"en\",\"pageLanguageDir\":\"ltr\",\"pageVariantFallbacks\":\"en\"},\"wgMFDisplayWikibaseDescriptions\":{\"search\":true,\"watchlist\":true,\"tagline\":false,\"nearby\":true},\"wgWMESchemaEditAttemptStepOversample\":false,\n",
      "\"wgWMEPageLength\":300000,\"wgULSCurrentAutonym\":\"English\",\"wgCentralAuthMobileDomain\":false,\"wgEditSubmitButtonLabelPublish\":true,\"wgULSPosition\":\"interlanguage\",\"wgULSisCompactLinksEnabled\":false,\"wgVector2022LanguageInHeader\":true,\"wgULSisLanguageSelectorEmpty\":false,\"wgWikibaseItemId\":\"Q362\",\"wgCheckUserClientHintsHeadersJsApi\":[\"architecture\",\"bitness\",\"brands\",\"fullVersionList\",\"mobile\",\"model\",\"platform\",\"platformVersion\"],\"GEHomepageSuggestedEditsEnableTopics\":true,\"wgGETopicsMatchModeEnabled\":false,\"wgGEStructuredTaskRejectionReasonTextInputEnabled\":false,\"wgGELevelingUpEnabledForUser\":false};RLSTATE={\"skins.vector.user.styles\":\"ready\",\"ext.globalCssJs.user.styles\":\"ready\",\"site.styles\":\"ready\",\"user.styles\":\"ready\",\"skins.vector.user\":\"ready\",\"ext.globalCssJs.user\":\"ready\",\"user\":\"ready\",\"user.options\":\"loading\",\"ext.cite.styles\":\"ready\",\"skins.vector.search.codex.styles\":\"ready\",\"skins.vector.styles\":\"ready\",\"skins.vector.icons\":\"ready\",\"jquery.makeCollapsible.styles\":\"ready\",\n",
      "\"ext.wikimediamessages.styles\":\"ready\",\"ext.visualEditor.desktopArticleTarget.noscript\":\"ready\",\"ext.uls.interlanguage\":\"ready\",\"wikibase.client.init\":\"ready\",\"ext.wikimediaBadges\":\"ready\"};RLPAGEMODULES=[\"ext.cite.ux-enhancements\",\"mediawiki.page.media\",\"ext.scribunto.logs\",\"site\",\"mediawiki.page.ready\",\"jquery.makeCollapsible\",\"mediawiki.toc\",\"skins.vector.js\",\"ext.centralNotice.geoIP\",\"ext.centralNotice.startUp\",\"ext.gadget.ReferenceTooltips\",\"ext.gadget.switcher\",\"ext.urlShortener.toolbar\",\"ext.centralauth.centralautologin\",\"mmv.head\",\"mmv.bootstrap.autostart\",\"ext.popups\",\"ext.visualEditor.desktopArticleTarget.init\",\"ext.visualEditor.targetLoader\",\"ext.echo.centralauth\",\"ext.eventLogging\",\"ext.wikimediaEvents\",\"ext.navigationTiming\",\"ext.uls.interface\",\"ext.cx.eventlogging.campaigns\",\"ext.cx.uls.quick.actions\",\"wikibase.client.vector-2022\",\"ext.checkUser.clientHints\",\"ext.growthExperiments.SuggestedEditSession\"];</script>\n",
      "<script>(RLQ=window.RLQ||[]).push(function(){mw.loader.impl(function(){return[\"user.options@12s5i\",function($,jQuery,require,module){mw.user.tokens.set({\"patrolToken\":\"+\\\\\",\"watchToken\":\"+\\\\\",\"csrfToken\":\"+\\\\\"});\n",
      "}];});});</script>\n",
      "<link rel=\"stylesheet\" href=\"/w/load.php?lang=en&amp;modules=ext.cite.styles%7Cext.uls.interlanguage%7Cext.visualEditor.desktopArticleTarget.noscript%7Cext.wikimediaBadges%7Cext.wikimediamessages.styles%7Cjquery.makeCollapsible.styles%7Cskins.vector.icons%2Cstyles%7Cskins.vector.search.codex.styles%7Cwikibase.client.init&amp;only=styles&amp;skin=vector-2022\">\n",
      "<script async=\"\" src=\"/w/load.php?lang=en&amp;modules=startup&amp;only=scripts&amp;raw=1&amp;skin=vector-2022\"></script>\n",
      "<meta name=\"ResourceLoaderDynamicStyles\" content=\"\">\n",
      "<link rel=\"stylesheet\" href=\"/w/load.php?lang=en&amp;modules=site.styles&amp;only=styles&amp;skin=vector-2022\">\n",
      "<meta name=\"generator\" content=\"MediaWiki 1.43.0-wmf.5\">\n",
      "<meta name=\"referrer\" content=\"origin\">\n",
      "<meta name=\"referrer\" content=\"origin-when-cross-origin\">\n",
      "<meta name=\"robots\" content=\"max-image-preview:standard\">\n",
      "<meta name=\"format-detection\" content=\"telephone=no\">\n",
      "<meta property=\"og:image\" content=\"https://upload.wikimedia.org/wikipedia/commons/1/10/Bundesarchiv_Bild_101I-646-5188-17%2C_Flugzeuge_Junkers_Ju_87.jpg\">\n",
      "<meta property=\"og:image:width\" content=\"1200\">\n",
      "<meta property=\"og:image:height\" content=\"818\">\n",
      "<meta property=\"og:image\" content=\"https://upload.wikimedia.org/wikipedia/commons/1/10/Bundesarchiv_Bild_101I-646-5188-17%2C_Flugzeuge_Junkers_Ju_87.jpg\">\n",
      "<meta property=\"og:image:width\" content=\"800\">\n",
      "<meta property=\"og:image:height\" content=\"545\">\n",
      "<meta property=\"og:image\" content=\"https://upload.wikimedia.org/wikipedia/commons/thumb/1/10/Bundesarchiv_Bild_101I-646-5188-17%2C_Flugzeuge_Junkers_Ju_87.jpg/640px-Bundesarchiv_Bild_101I-646-5188-17%2C_Flugzeuge_Junkers_Ju_87.jpg\">\n",
      "<meta property=\"og:image:width\" content=\"640\">\n",
      "<meta property=\"og:image:height\" content=\"436\">\n",
      "<meta name=\"viewport\" content=\"width=1000\">\n",
      "<meta property=\"og:title\" content=\"World War II - Wikipedia\">\n",
      "<meta property=\"og:type\" content=\"website\">\n",
      "<link rel=\"preconnect\" href=\"//upload.wikimedia.org\">\n",
      "<link rel=\"alternate\" media=\"only screen and (max-width: 720px)\" href=\"//en.m.wikipedia.org/wiki/World_War_II\">\n",
      "<link rel=\"apple-touch-icon\" href=\"/static/apple-touch/wikipedia.png\">\n",
      "<link rel=\"icon\" href=\"/static/favicon/wikipedia.ico\">\n",
      "<link rel=\"search\" type=\"application/opensearchdescription+xml\" href=\"/w/opensearch_desc.php\" title=\"Wikipedia (en)\">\n",
      "<link rel=\"EditURI\" type=\"application/rsd+xml\" href=\"//en.wikipedia.org/w/api.php?action=rsd\">\n",
      "<link rel=\"canonical\" href=\"https://en.wikipedia.org/wiki/World_War_II\">\n",
      "<link rel=\"license\" href=\"https://creativecommons.org/licenses/by-sa/4.0/deed.en\">\n",
      "<link rel=\"alternate\" type=\"application/atom+xml\" title=\"Wikipedia Atom feed\" href=\"/w/index.php?title=Special:RecentChanges&amp;feed=atom\">\n",
      "<link rel=\"dns-prefetch\" href=\"//meta.wikimedia.org\" />\n",
      "<link rel=\"dns-prefetch\" href=\"//login.wikimedia.org\">\n",
      "\n"
     ]
    }
   ],
   "source": [
    "import requests\n",
    "\n",
    "proxies = {\n",
    "    \"http\": \"http://127.0.0.1:10809\",\n",
    "    \"https\": \"http://127.0.0.1:10809\",\n",
    "}\n",
    "\n",
    "\n",
    "\n",
    "t = requests.get(\"http://en.wikipedia.org/wiki/World_War_II\",proxies=proxies).text\n",
    "\n",
    "\n",
    "\n",
    "print(t.split(\"</head>\")[0])"
   ]
  }
 ],
 "metadata": {
  "kernelspec": {
   "display_name": "waragent",
   "language": "python",
   "name": "python3"
  },
  "language_info": {
   "codemirror_mode": {
    "name": "ipython",
    "version": 3
   },
   "file_extension": ".py",
   "mimetype": "text/x-python",
   "name": "python",
   "nbconvert_exporter": "python",
   "pygments_lexer": "ipython3",
   "version": "3.12.0"
  }
 },
 "nbformat": 4,
 "nbformat_minor": 2
}
